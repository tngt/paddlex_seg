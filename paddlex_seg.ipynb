{
 "cells": [
  {
   "cell_type": "markdown",
   "metadata": {
    "collapsed": false
   },
   "source": [
    "请点击[此处](https://ai.baidu.com/docs#/AIStudio_Project_Notebook/a38e5576)查看本环境基本用法.  <br>\n",
    "Please click [here ](https://ai.baidu.com/docs#/AIStudio_Project_Notebook/a38e5576) for more detailed instructions. "
   ]
  },
  {
   "cell_type": "markdown",
   "metadata": {
    "collapsed": false
   },
   "source": [
    "## 1.下载paddleX、跑通一个图像分类的示例"
   ]
  },
  {
   "cell_type": "markdown",
   "metadata": {
    "collapsed": false
   },
   "source": [
    "### 1.1下载paddle X\n",
    "根据[飞桨官网](https://www.paddlepaddle.org.cn/paddlex/download)上的安装步骤下载paddleX\n",
    "<center><img src='https://ai-studio-static-online.cdn.bcebos.com/c72f5190df7e4367a2177002560076cc3a9f3faaf15246c4b79c49d304e77191' width='700'></center>\n"
   ]
  },
  {
   "cell_type": "markdown",
   "metadata": {
    "collapsed": false
   },
   "source": [
    "### 1.2跑通image classification示例\n",
    "本次试用的示例为**果蔬分类**\n",
    "\n",
    "<center><img src='https://ai-studio-static-online.cdn.bcebos.com/ac42cb4860b44496ad05ce3d3b37d661c4224843b756487dbb0a755373c468cd' width='700'></center>"
   ]
  },
  {
   "cell_type": "markdown",
   "metadata": {
    "collapsed": false
   },
   "source": [
    "## 2.分割任务实现\n",
    "\n",
    "### 2.1数据集下载和解压\n",
    "* 安装paddlex"
   ]
  },
  {
   "cell_type": "code",
   "execution_count": 2,
   "metadata": {
    "collapsed": false
   },
   "outputs": [
    {
     "name": "stdout",
     "output_type": "stream",
     "text": [
      "Looking in indexes: https://mirror.baidu.com/pypi/simple/\n",
      "Collecting paddlex\n",
      "\u001b[?25l  Downloading https://mirror.baidu.com/pypi/packages/02/a4/90f3f1f997b65952d9517c74a3f672ba83721c124a481bc0cdc295e8adbc/paddlex-1.3.7-py3-none-any.whl (514kB)\n",
      "\u001b[K     |████████████████████████████████| 522kB 10.6MB/s eta 0:00:01\n",
      "\u001b[?25hRequirement already satisfied: tqdm in /opt/conda/envs/python35-paddle120-env/lib/python3.7/site-packages (from paddlex) (4.36.1)\n",
      "Requirement already satisfied: sklearn in /opt/conda/envs/python35-paddle120-env/lib/python3.7/site-packages (from paddlex) (0.0)\n",
      "Requirement already satisfied: opencv-python in /opt/conda/envs/python35-paddle120-env/lib/python3.7/site-packages (from paddlex) (4.1.1.26)\n",
      "Requirement already satisfied: psutil in /opt/conda/envs/python35-paddle120-env/lib/python3.7/site-packages (from paddlex) (5.7.2)\n",
      "Requirement already satisfied: visualdl>=2.0.0 in /opt/conda/envs/python35-paddle120-env/lib/python3.7/site-packages (from paddlex) (2.1.1)\n",
      "Collecting xlwt (from paddlex)\n",
      "\u001b[?25l  Downloading https://mirror.baidu.com/pypi/packages/44/48/def306413b25c3d01753603b1a222a011b8621aed27cd7f89cbc27e6b0f4/xlwt-1.3.0-py2.py3-none-any.whl (99kB)\n",
      "\u001b[K     |████████████████████████████████| 102kB 34.2MB/s ta 0:00:01\n",
      "\u001b[?25hRequirement already satisfied: colorama in /opt/conda/envs/python35-paddle120-env/lib/python3.7/site-packages (from paddlex) (0.4.4)\n",
      "Requirement already satisfied: flask-cors in /opt/conda/envs/python35-paddle120-env/lib/python3.7/site-packages (from paddlex) (3.0.8)\n",
      "Collecting pycocotools; platform_system != \"Windows\" (from paddlex)\n",
      "  Downloading https://mirror.baidu.com/pypi/packages/de/df/056875d697c45182ed6d2ae21f62015896fdb841906fe48e7268e791c467/pycocotools-2.0.2.tar.gz\n",
      "Collecting shapely>=1.7.0 (from paddlex)\n",
      "\u001b[?25l  Downloading https://mirror.baidu.com/pypi/packages/98/f8/db4d3426a1aba9d5dfcc83ed5a3e2935d2b1deb73d350642931791a61c37/Shapely-1.7.1-cp37-cp37m-manylinux1_x86_64.whl (1.0MB)\n",
      "\u001b[K     |████████████████████████████████| 1.0MB 18.6MB/s eta 0:00:01\n",
      "\u001b[?25hCollecting paddleslim==1.1.1 (from paddlex)\n",
      "\u001b[?25l  Downloading https://mirror.baidu.com/pypi/packages/d1/77/e257227bed9a70ff0d35a4a3c4e70ac2d2362c803834c4c52018f7c4b762/paddleslim-1.1.1-py2.py3-none-any.whl (145kB)\n",
      "\u001b[K     |████████████████████████████████| 153kB 31.7MB/s eta 0:00:01\n",
      "\u001b[?25hRequirement already satisfied: pyyaml in /opt/conda/envs/python35-paddle120-env/lib/python3.7/site-packages (from paddlex) (5.1.2)\n",
      "Requirement already satisfied: scikit-learn in /opt/conda/envs/python35-paddle120-env/lib/python3.7/site-packages (from sklearn->paddlex) (0.22.1)\n",
      "Requirement already satisfied: numpy>=1.14.5 in /opt/conda/envs/python35-paddle120-env/lib/python3.7/site-packages (from opencv-python->paddlex) (1.16.4)\n",
      "Requirement already satisfied: shellcheck-py in /opt/conda/envs/python35-paddle120-env/lib/python3.7/site-packages (from visualdl>=2.0.0->paddlex) (0.7.1.1)\n",
      "Requirement already satisfied: flake8>=3.7.9 in /opt/conda/envs/python35-paddle120-env/lib/python3.7/site-packages (from visualdl>=2.0.0->paddlex) (3.8.2)\n",
      "Requirement already satisfied: Pillow>=7.0.0 in /opt/conda/envs/python35-paddle120-env/lib/python3.7/site-packages (from visualdl>=2.0.0->paddlex) (7.1.2)\n",
      "Requirement already satisfied: requests in /opt/conda/envs/python35-paddle120-env/lib/python3.7/site-packages (from visualdl>=2.0.0->paddlex) (2.22.0)\n",
      "Requirement already satisfied: six>=1.14.0 in /opt/conda/envs/python35-paddle120-env/lib/python3.7/site-packages (from visualdl>=2.0.0->paddlex) (1.15.0)\n",
      "Requirement already satisfied: flask>=1.1.1 in /opt/conda/envs/python35-paddle120-env/lib/python3.7/site-packages (from visualdl>=2.0.0->paddlex) (1.1.1)\n",
      "Requirement already satisfied: protobuf>=3.11.0 in /opt/conda/envs/python35-paddle120-env/lib/python3.7/site-packages (from visualdl>=2.0.0->paddlex) (3.14.0)\n",
      "Requirement already satisfied: bce-python-sdk in /opt/conda/envs/python35-paddle120-env/lib/python3.7/site-packages (from visualdl>=2.0.0->paddlex) (0.8.53)\n",
      "Requirement already satisfied: pre-commit in /opt/conda/envs/python35-paddle120-env/lib/python3.7/site-packages (from visualdl>=2.0.0->paddlex) (1.21.0)\n",
      "Requirement already satisfied: Flask-Babel>=1.0.0 in /opt/conda/envs/python35-paddle120-env/lib/python3.7/site-packages (from visualdl>=2.0.0->paddlex) (1.0.0)\n",
      "Requirement already satisfied: setuptools>=18.0 in /opt/conda/envs/python35-paddle120-env/lib/python3.7/site-packages (from pycocotools; platform_system != \"Windows\"->paddlex) (41.4.0)\n",
      "Requirement already satisfied: cython>=0.27.3 in /opt/conda/envs/python35-paddle120-env/lib/python3.7/site-packages (from pycocotools; platform_system != \"Windows\"->paddlex) (0.29)\n",
      "Requirement already satisfied: matplotlib>=2.1.0 in /opt/conda/envs/python35-paddle120-env/lib/python3.7/site-packages (from pycocotools; platform_system != \"Windows\"->paddlex) (2.2.3)\n",
      "Requirement already satisfied: pyzmq in /opt/conda/envs/python35-paddle120-env/lib/python3.7/site-packages (from paddleslim==1.1.1->paddlex) (18.1.1)\n",
      "Requirement already satisfied: joblib>=0.11 in /opt/conda/envs/python35-paddle120-env/lib/python3.7/site-packages (from scikit-learn->sklearn->paddlex) (0.14.1)\n",
      "Requirement already satisfied: scipy>=0.17.0 in /opt/conda/envs/python35-paddle120-env/lib/python3.7/site-packages (from scikit-learn->sklearn->paddlex) (1.3.0)\n",
      "Requirement already satisfied: importlib-metadata; python_version < \"3.8\" in /opt/conda/envs/python35-paddle120-env/lib/python3.7/site-packages (from flake8>=3.7.9->visualdl>=2.0.0->paddlex) (0.23)\n",
      "Requirement already satisfied: mccabe<0.7.0,>=0.6.0 in /opt/conda/envs/python35-paddle120-env/lib/python3.7/site-packages (from flake8>=3.7.9->visualdl>=2.0.0->paddlex) (0.6.1)\n",
      "Requirement already satisfied: pyflakes<2.3.0,>=2.2.0 in /opt/conda/envs/python35-paddle120-env/lib/python3.7/site-packages (from flake8>=3.7.9->visualdl>=2.0.0->paddlex) (2.2.0)\n",
      "Requirement already satisfied: pycodestyle<2.7.0,>=2.6.0a1 in /opt/conda/envs/python35-paddle120-env/lib/python3.7/site-packages (from flake8>=3.7.9->visualdl>=2.0.0->paddlex) (2.6.0)\n",
      "Requirement already satisfied: chardet<3.1.0,>=3.0.2 in /opt/conda/envs/python35-paddle120-env/lib/python3.7/site-packages (from requests->visualdl>=2.0.0->paddlex) (3.0.4)\n",
      "Requirement already satisfied: idna<2.9,>=2.5 in /opt/conda/envs/python35-paddle120-env/lib/python3.7/site-packages (from requests->visualdl>=2.0.0->paddlex) (2.8)\n",
      "Requirement already satisfied: urllib3!=1.25.0,!=1.25.1,<1.26,>=1.21.1 in /opt/conda/envs/python35-paddle120-env/lib/python3.7/site-packages (from requests->visualdl>=2.0.0->paddlex) (1.25.6)\n",
      "Requirement already satisfied: certifi>=2017.4.17 in /opt/conda/envs/python35-paddle120-env/lib/python3.7/site-packages (from requests->visualdl>=2.0.0->paddlex) (2019.9.11)\n",
      "Requirement already satisfied: click>=5.1 in /opt/conda/envs/python35-paddle120-env/lib/python3.7/site-packages (from flask>=1.1.1->visualdl>=2.0.0->paddlex) (7.0)\n",
      "Requirement already satisfied: itsdangerous>=0.24 in /opt/conda/envs/python35-paddle120-env/lib/python3.7/site-packages (from flask>=1.1.1->visualdl>=2.0.0->paddlex) (1.1.0)\n",
      "Requirement already satisfied: Werkzeug>=0.15 in /opt/conda/envs/python35-paddle120-env/lib/python3.7/site-packages (from flask>=1.1.1->visualdl>=2.0.0->paddlex) (0.16.0)\n",
      "Requirement already satisfied: Jinja2>=2.10.1 in /opt/conda/envs/python35-paddle120-env/lib/python3.7/site-packages (from flask>=1.1.1->visualdl>=2.0.0->paddlex) (2.10.3)\n",
      "Requirement already satisfied: pycryptodome>=3.8.0 in /opt/conda/envs/python35-paddle120-env/lib/python3.7/site-packages (from bce-python-sdk->visualdl>=2.0.0->paddlex) (3.9.9)\n",
      "Requirement already satisfied: future>=0.6.0 in /opt/conda/envs/python35-paddle120-env/lib/python3.7/site-packages (from bce-python-sdk->visualdl>=2.0.0->paddlex) (0.18.0)\n",
      "Requirement already satisfied: cfgv>=2.0.0 in /opt/conda/envs/python35-paddle120-env/lib/python3.7/site-packages (from pre-commit->visualdl>=2.0.0->paddlex) (2.0.1)\n",
      "Requirement already satisfied: aspy.yaml in /opt/conda/envs/python35-paddle120-env/lib/python3.7/site-packages (from pre-commit->visualdl>=2.0.0->paddlex) (1.3.0)\n",
      "Requirement already satisfied: nodeenv>=0.11.1 in /opt/conda/envs/python35-paddle120-env/lib/python3.7/site-packages (from pre-commit->visualdl>=2.0.0->paddlex) (1.3.4)\n",
      "Requirement already satisfied: virtualenv>=15.2 in /opt/conda/envs/python35-paddle120-env/lib/python3.7/site-packages (from pre-commit->visualdl>=2.0.0->paddlex) (16.7.9)\n",
      "Requirement already satisfied: identify>=1.0.0 in /opt/conda/envs/python35-paddle120-env/lib/python3.7/site-packages (from pre-commit->visualdl>=2.0.0->paddlex) (1.4.10)\n",
      "Requirement already satisfied: toml in /opt/conda/envs/python35-paddle120-env/lib/python3.7/site-packages (from pre-commit->visualdl>=2.0.0->paddlex) (0.10.0)\n",
      "Requirement already satisfied: pytz in /opt/conda/envs/python35-paddle120-env/lib/python3.7/site-packages (from Flask-Babel>=1.0.0->visualdl>=2.0.0->paddlex) (2019.3)\n",
      "Requirement already satisfied: Babel>=2.3 in /opt/conda/envs/python35-paddle120-env/lib/python3.7/site-packages (from Flask-Babel>=1.0.0->visualdl>=2.0.0->paddlex) (2.8.0)\n",
      "Requirement already satisfied: python-dateutil>=2.1 in /opt/conda/envs/python35-paddle120-env/lib/python3.7/site-packages (from matplotlib>=2.1.0->pycocotools; platform_system != \"Windows\"->paddlex) (2.8.0)\n",
      "Requirement already satisfied: kiwisolver>=1.0.1 in /opt/conda/envs/python35-paddle120-env/lib/python3.7/site-packages (from matplotlib>=2.1.0->pycocotools; platform_system != \"Windows\"->paddlex) (1.1.0)\n",
      "Requirement already satisfied: pyparsing!=2.0.4,!=2.1.2,!=2.1.6,>=2.0.1 in /opt/conda/envs/python35-paddle120-env/lib/python3.7/site-packages (from matplotlib>=2.1.0->pycocotools; platform_system != \"Windows\"->paddlex) (2.4.2)\n",
      "Requirement already satisfied: cycler>=0.10 in /opt/conda/envs/python35-paddle120-env/lib/python3.7/site-packages (from matplotlib>=2.1.0->pycocotools; platform_system != \"Windows\"->paddlex) (0.10.0)\n",
      "Requirement already satisfied: zipp>=0.5 in /opt/conda/envs/python35-paddle120-env/lib/python3.7/site-packages (from importlib-metadata; python_version < \"3.8\"->flake8>=3.7.9->visualdl>=2.0.0->paddlex) (0.6.0)\n",
      "Requirement already satisfied: MarkupSafe>=0.23 in /opt/conda/envs/python35-paddle120-env/lib/python3.7/site-packages (from Jinja2>=2.10.1->flask>=1.1.1->visualdl>=2.0.0->paddlex) (1.1.1)\n",
      "Requirement already satisfied: more-itertools in /opt/conda/envs/python35-paddle120-env/lib/python3.7/site-packages (from zipp>=0.5->importlib-metadata; python_version < \"3.8\"->flake8>=3.7.9->visualdl>=2.0.0->paddlex) (7.2.0)\n",
      "Building wheels for collected packages: pycocotools\n",
      "  Building wheel for pycocotools (setup.py) ... \u001b[?25ldone\n",
      "\u001b[?25h  Created wheel for pycocotools: filename=pycocotools-2.0.2-cp37-cp37m-linux_x86_64.whl size=278364 sha256=d98873195355c4cfcf43118d9a2031be50145118907d53e8a338d7972a7f78c9\n",
      "  Stored in directory: /home/aistudio/.cache/pip/wheels/fb/44/67/8baa69040569b1edbd7776ec6f82c387663e724908aaa60963\n",
      "Successfully built pycocotools\n",
      "Installing collected packages: xlwt, pycocotools, shapely, paddleslim, paddlex\n",
      "Successfully installed paddleslim-1.1.1 paddlex-1.3.7 pycocotools-2.0.2 shapely-1.7.1 xlwt-1.3.0\n"
     ]
    }
   ],
   "source": [
    "!pip install paddlex"
   ]
  },
  {
   "cell_type": "markdown",
   "metadata": {
    "collapsed": false
   },
   "source": [
    "* 下载和解压数据"
   ]
  },
  {
   "cell_type": "code",
   "execution_count": null,
   "metadata": {
    "collapsed": false
   },
   "outputs": [],
   "source": [
    "import paddlex as pdx\n",
    "optic_dataset = 'https://bj.bcebos.com/paddlex/datasets/optic_disc_seg.tar.gz'\n",
    "pdx.utils.download_and_decompress(optic_dataset, path='./')"
   ]
  },
  {
   "cell_type": "markdown",
   "metadata": {
    "collapsed": false
   },
   "source": [
    "### 2.2 数据集划分"
   ]
  },
  {
   "cell_type": "code",
   "execution_count": 3,
   "metadata": {
    "collapsed": false
   },
   "outputs": [
    {
     "name": "stdout",
     "output_type": "stream",
     "text": [
      "/opt/conda/envs/python35-paddle120-env/lib/python3.7/site-packages/setuptools/depends.py:2: DeprecationWarning: the imp module is deprecated in favour of importlib; see the module's documentation for alternative uses\n",
      "  import imp\n",
      "Dataset Split Done.\n",
      "Train samples: 267\n",
      "Eval samples: 76\n",
      "Test samples: 38\n",
      "Split files saved in optic_disc_seg\n"
     ]
    }
   ],
   "source": [
    "import paddlex\n",
    "!paddlex --split_dataset --format SEG --dataset_dir optic_disc_seg --val_value 0.2 --test_value 0.1"
   ]
  },
  {
   "cell_type": "markdown",
   "metadata": {
    "collapsed": false
   },
   "source": [
    "### 2.3 语义分割模型训练及保存"
   ]
  },
  {
   "cell_type": "code",
   "execution_count": 10,
   "metadata": {
    "collapsed": false
   },
   "outputs": [
    {
     "name": "stdout",
     "output_type": "stream",
     "text": [
      "2021-04-18 21:50:19 [INFO]\t267 samples in file optic_disc_seg/train_list.txt\n",
      "2021-04-18 21:50:19 [INFO]\t76 samples in file optic_disc_seg/val_list.txt\n"
     ]
    },
    {
     "name": "stderr",
     "output_type": "stream",
     "text": [
      "/opt/conda/envs/python35-paddle120-env/lib/python3.7/site-packages/paddle/fluid/layers/math_op_patch.py:298: UserWarning: /opt/conda/envs/python35-paddle120-env/lib/python3.7/site-packages/paddlex/cv/nets/mobilenet_v3.py:231\n",
      "The behavior of expression A * B has been unified with elementwise_mul(X, Y, axis=-1) from Paddle 2.0. If your code works well in the older versions but crashes in this version, try to use elementwise_mul(X, Y, axis=0) instead of A * B. This transitional warning will be dropped in the future.\n",
      "  op_type, op_type, EXPRESSION_MAP[method_name]))\n",
      "/opt/conda/envs/python35-paddle120-env/lib/python3.7/site-packages/paddle/fluid/layers/math_op_patch.py:298: UserWarning: /opt/conda/envs/python35-paddle120-env/lib/python3.7/site-packages/paddlex/cv/nets/segmentation/deeplabv3p.py:287\n",
      "The behavior of expression A * B has been unified with elementwise_mul(X, Y, axis=-1) from Paddle 2.0. If your code works well in the older versions but crashes in this version, try to use elementwise_mul(X, Y, axis=0) instead of A * B. This transitional warning will be dropped in the future.\n",
      "  op_type, op_type, EXPRESSION_MAP[method_name]))\n",
      "/opt/conda/envs/python35-paddle120-env/lib/python3.7/site-packages/paddle/fluid/layers/math_op_patch.py:298: UserWarning: /opt/conda/envs/python35-paddle120-env/lib/python3.7/site-packages/paddlex/cv/nets/segmentation/deeplabv3p.py:315\n",
      "The behavior of expression A + B has been unified with elementwise_add(X, Y, axis=-1) from Paddle 2.0. If your code works well in the older versions but crashes in this version, try to use elementwise_add(X, Y, axis=0) instead of A + B. This transitional warning will be dropped in the future.\n",
      "  op_type, op_type, EXPRESSION_MAP[method_name]))\n",
      "/opt/conda/envs/python35-paddle120-env/lib/python3.7/site-packages/paddle/fluid/layers/math_op_patch.py:298: UserWarning: /opt/conda/envs/python35-paddle120-env/lib/python3.7/site-packages/paddlex/cv/nets/segmentation/model_utils/loss.py:74\n",
      "The behavior of expression A * B has been unified with elementwise_mul(X, Y, axis=-1) from Paddle 2.0. If your code works well in the older versions but crashes in this version, try to use elementwise_mul(X, Y, axis=0) instead of A * B. This transitional warning will be dropped in the future.\n",
      "  op_type, op_type, EXPRESSION_MAP[method_name]))\n",
      "2021-04-18 21:50:20,751 - INFO - If regularizer of a Parameter has been set by 'fluid.ParamAttr' or 'fluid.WeightNormParamAttr' already. The Regularization[L2Decay, regularization_coeff=0.000040] in Optimizer will not take effect, and it will only be applied to other Parameters!\n"
     ]
    },
    {
     "name": "stdout",
     "output_type": "stream",
     "text": [
      "2021-04-18 21:50:22 [INFO]\tDecompressing output/deeplabv3p_mobilenetv3_large_ssld/pretrain/MobileNetV3_large_x1_0_ssld_pretrained.tar...\n",
      "2021-04-18 21:50:22 [INFO]\tLoad pretrain weights from output/deeplabv3p_mobilenetv3_large_ssld/pretrain/MobileNetV3_large_x1_0_ssld_pretrained.\n",
      "2021-04-18 21:50:22 [WARNING]\t[SKIP] Shape of pretrained weight output/deeplabv3p_mobilenetv3_large_ssld/pretrain/MobileNetV3_large_x1_0_ssld_pretrained/conv14_expand_weights doesn't match.(Pretrained: (672, 112, 1, 1), Actual: (336, 112, 1, 1))\n",
      "2021-04-18 21:50:22 [WARNING]\t[SKIP] Shape of pretrained weight output/deeplabv3p_mobilenetv3_large_ssld/pretrain/MobileNetV3_large_x1_0_ssld_pretrained/conv14_expand_bn_scale doesn't match.(Pretrained: (672,), Actual: (336,))\n",
      "2021-04-18 21:50:22 [WARNING]\t[SKIP] Shape of pretrained weight output/deeplabv3p_mobilenetv3_large_ssld/pretrain/MobileNetV3_large_x1_0_ssld_pretrained/conv14_expand_bn_offset doesn't match.(Pretrained: (672,), Actual: (336,))\n",
      "2021-04-18 21:50:22 [WARNING]\t[SKIP] Shape of pretrained weight output/deeplabv3p_mobilenetv3_large_ssld/pretrain/MobileNetV3_large_x1_0_ssld_pretrained/conv14_expand_bn_mean doesn't match.(Pretrained: (672,), Actual: (336,))\n",
      "2021-04-18 21:50:22 [WARNING]\t[SKIP] Shape of pretrained weight output/deeplabv3p_mobilenetv3_large_ssld/pretrain/MobileNetV3_large_x1_0_ssld_pretrained/conv14_expand_bn_variance doesn't match.(Pretrained: (672,), Actual: (336,))\n",
      "2021-04-18 21:50:22 [WARNING]\t[SKIP] Shape of pretrained weight output/deeplabv3p_mobilenetv3_large_ssld/pretrain/MobileNetV3_large_x1_0_ssld_pretrained/conv14_depthwise_weights doesn't match.(Pretrained: (672, 1, 5, 5), Actual: (336, 1, 5, 5))\n",
      "2021-04-18 21:50:22 [WARNING]\t[SKIP] Shape of pretrained weight output/deeplabv3p_mobilenetv3_large_ssld/pretrain/MobileNetV3_large_x1_0_ssld_pretrained/conv14_depthwise_bn_scale doesn't match.(Pretrained: (672,), Actual: (336,))\n",
      "2021-04-18 21:50:22 [WARNING]\t[SKIP] Shape of pretrained weight output/deeplabv3p_mobilenetv3_large_ssld/pretrain/MobileNetV3_large_x1_0_ssld_pretrained/conv14_depthwise_bn_offset doesn't match.(Pretrained: (672,), Actual: (336,))\n",
      "2021-04-18 21:50:22 [WARNING]\t[SKIP] Shape of pretrained weight output/deeplabv3p_mobilenetv3_large_ssld/pretrain/MobileNetV3_large_x1_0_ssld_pretrained/conv14_depthwise_bn_mean doesn't match.(Pretrained: (672,), Actual: (336,))\n",
      "2021-04-18 21:50:22 [WARNING]\t[SKIP] Shape of pretrained weight output/deeplabv3p_mobilenetv3_large_ssld/pretrain/MobileNetV3_large_x1_0_ssld_pretrained/conv14_depthwise_bn_variance doesn't match.(Pretrained: (672,), Actual: (336,))\n",
      "2021-04-18 21:50:22 [WARNING]\t[SKIP] Shape of pretrained weight output/deeplabv3p_mobilenetv3_large_ssld/pretrain/MobileNetV3_large_x1_0_ssld_pretrained/conv14_se_1_weights doesn't match.(Pretrained: (168, 672, 1, 1), Actual: (84, 336, 1, 1))\n",
      "2021-04-18 21:50:22 [WARNING]\t[SKIP] Shape of pretrained weight output/deeplabv3p_mobilenetv3_large_ssld/pretrain/MobileNetV3_large_x1_0_ssld_pretrained/conv14_se_1_offset doesn't match.(Pretrained: (168,), Actual: (84,))\n",
      "2021-04-18 21:50:22 [WARNING]\t[SKIP] Shape of pretrained weight output/deeplabv3p_mobilenetv3_large_ssld/pretrain/MobileNetV3_large_x1_0_ssld_pretrained/conv14_se_2_weights doesn't match.(Pretrained: (672, 168, 1, 1), Actual: (336, 84, 1, 1))\n",
      "2021-04-18 21:50:22 [WARNING]\t[SKIP] Shape of pretrained weight output/deeplabv3p_mobilenetv3_large_ssld/pretrain/MobileNetV3_large_x1_0_ssld_pretrained/conv14_se_2_offset doesn't match.(Pretrained: (672,), Actual: (336,))\n",
      "2021-04-18 21:50:22 [WARNING]\t[SKIP] Shape of pretrained weight output/deeplabv3p_mobilenetv3_large_ssld/pretrain/MobileNetV3_large_x1_0_ssld_pretrained/conv14_linear_weights doesn't match.(Pretrained: (160, 672, 1, 1), Actual: (80, 336, 1, 1))\n",
      "2021-04-18 21:50:22 [WARNING]\t[SKIP] Shape of pretrained weight output/deeplabv3p_mobilenetv3_large_ssld/pretrain/MobileNetV3_large_x1_0_ssld_pretrained/conv14_linear_bn_scale doesn't match.(Pretrained: (160,), Actual: (80,))\n",
      "2021-04-18 21:50:22 [WARNING]\t[SKIP] Shape of pretrained weight output/deeplabv3p_mobilenetv3_large_ssld/pretrain/MobileNetV3_large_x1_0_ssld_pretrained/conv14_linear_bn_offset doesn't match.(Pretrained: (160,), Actual: (80,))\n",
      "2021-04-18 21:50:22 [WARNING]\t[SKIP] Shape of pretrained weight output/deeplabv3p_mobilenetv3_large_ssld/pretrain/MobileNetV3_large_x1_0_ssld_pretrained/conv14_linear_bn_mean doesn't match.(Pretrained: (160,), Actual: (80,))\n",
      "2021-04-18 21:50:22 [WARNING]\t[SKIP] Shape of pretrained weight output/deeplabv3p_mobilenetv3_large_ssld/pretrain/MobileNetV3_large_x1_0_ssld_pretrained/conv14_linear_bn_variance doesn't match.(Pretrained: (160,), Actual: (80,))\n",
      "2021-04-18 21:50:22 [WARNING]\t[SKIP] Shape of pretrained weight output/deeplabv3p_mobilenetv3_large_ssld/pretrain/MobileNetV3_large_x1_0_ssld_pretrained/conv15_expand_weights doesn't match.(Pretrained: (960, 160, 1, 1), Actual: (480, 80, 1, 1))\n",
      "2021-04-18 21:50:22 [WARNING]\t[SKIP] Shape of pretrained weight output/deeplabv3p_mobilenetv3_large_ssld/pretrain/MobileNetV3_large_x1_0_ssld_pretrained/conv15_expand_bn_scale doesn't match.(Pretrained: (960,), Actual: (480,))\n",
      "2021-04-18 21:50:22 [WARNING]\t[SKIP] Shape of pretrained weight output/deeplabv3p_mobilenetv3_large_ssld/pretrain/MobileNetV3_large_x1_0_ssld_pretrained/conv15_expand_bn_offset doesn't match.(Pretrained: (960,), Actual: (480,))\n",
      "2021-04-18 21:50:22 [WARNING]\t[SKIP] Shape of pretrained weight output/deeplabv3p_mobilenetv3_large_ssld/pretrain/MobileNetV3_large_x1_0_ssld_pretrained/conv15_expand_bn_mean doesn't match.(Pretrained: (960,), Actual: (480,))\n",
      "2021-04-18 21:50:22 [WARNING]\t[SKIP] Shape of pretrained weight output/deeplabv3p_mobilenetv3_large_ssld/pretrain/MobileNetV3_large_x1_0_ssld_pretrained/conv15_expand_bn_variance doesn't match.(Pretrained: (960,), Actual: (480,))\n",
      "2021-04-18 21:50:22 [WARNING]\t[SKIP] Shape of pretrained weight output/deeplabv3p_mobilenetv3_large_ssld/pretrain/MobileNetV3_large_x1_0_ssld_pretrained/conv15_depthwise_weights doesn't match.(Pretrained: (960, 1, 5, 5), Actual: (480, 1, 5, 5))\n",
      "2021-04-18 21:50:22 [WARNING]\t[SKIP] Shape of pretrained weight output/deeplabv3p_mobilenetv3_large_ssld/pretrain/MobileNetV3_large_x1_0_ssld_pretrained/conv15_depthwise_bn_scale doesn't match.(Pretrained: (960,), Actual: (480,))\n",
      "2021-04-18 21:50:22 [WARNING]\t[SKIP] Shape of pretrained weight output/deeplabv3p_mobilenetv3_large_ssld/pretrain/MobileNetV3_large_x1_0_ssld_pretrained/conv15_depthwise_bn_offset doesn't match.(Pretrained: (960,), Actual: (480,))\n",
      "2021-04-18 21:50:22 [WARNING]\t[SKIP] Shape of pretrained weight output/deeplabv3p_mobilenetv3_large_ssld/pretrain/MobileNetV3_large_x1_0_ssld_pretrained/conv15_depthwise_bn_mean doesn't match.(Pretrained: (960,), Actual: (480,))\n",
      "2021-04-18 21:50:22 [WARNING]\t[SKIP] Shape of pretrained weight output/deeplabv3p_mobilenetv3_large_ssld/pretrain/MobileNetV3_large_x1_0_ssld_pretrained/conv15_depthwise_bn_variance doesn't match.(Pretrained: (960,), Actual: (480,))\n",
      "2021-04-18 21:50:22 [WARNING]\t[SKIP] Shape of pretrained weight output/deeplabv3p_mobilenetv3_large_ssld/pretrain/MobileNetV3_large_x1_0_ssld_pretrained/conv15_se_1_weights doesn't match.(Pretrained: (240, 960, 1, 1), Actual: (120, 480, 1, 1))\n",
      "2021-04-18 21:50:22 [WARNING]\t[SKIP] Shape of pretrained weight output/deeplabv3p_mobilenetv3_large_ssld/pretrain/MobileNetV3_large_x1_0_ssld_pretrained/conv15_se_1_offset doesn't match.(Pretrained: (240,), Actual: (120,))\n",
      "2021-04-18 21:50:22 [WARNING]\t[SKIP] Shape of pretrained weight output/deeplabv3p_mobilenetv3_large_ssld/pretrain/MobileNetV3_large_x1_0_ssld_pretrained/conv15_se_2_weights doesn't match.(Pretrained: (960, 240, 1, 1), Actual: (480, 120, 1, 1))\n",
      "2021-04-18 21:50:22 [WARNING]\t[SKIP] Shape of pretrained weight output/deeplabv3p_mobilenetv3_large_ssld/pretrain/MobileNetV3_large_x1_0_ssld_pretrained/conv15_se_2_offset doesn't match.(Pretrained: (960,), Actual: (480,))\n",
      "2021-04-18 21:50:22 [WARNING]\t[SKIP] Shape of pretrained weight output/deeplabv3p_mobilenetv3_large_ssld/pretrain/MobileNetV3_large_x1_0_ssld_pretrained/conv15_linear_weights doesn't match.(Pretrained: (160, 960, 1, 1), Actual: (80, 480, 1, 1))\n",
      "2021-04-18 21:50:22 [WARNING]\t[SKIP] Shape of pretrained weight output/deeplabv3p_mobilenetv3_large_ssld/pretrain/MobileNetV3_large_x1_0_ssld_pretrained/conv15_linear_bn_scale doesn't match.(Pretrained: (160,), Actual: (80,))\n",
      "2021-04-18 21:50:22 [WARNING]\t[SKIP] Shape of pretrained weight output/deeplabv3p_mobilenetv3_large_ssld/pretrain/MobileNetV3_large_x1_0_ssld_pretrained/conv15_linear_bn_offset doesn't match.(Pretrained: (160,), Actual: (80,))\n",
      "2021-04-18 21:50:22 [WARNING]\t[SKIP] Shape of pretrained weight output/deeplabv3p_mobilenetv3_large_ssld/pretrain/MobileNetV3_large_x1_0_ssld_pretrained/conv15_linear_bn_mean doesn't match.(Pretrained: (160,), Actual: (80,))\n",
      "2021-04-18 21:50:22 [WARNING]\t[SKIP] Shape of pretrained weight output/deeplabv3p_mobilenetv3_large_ssld/pretrain/MobileNetV3_large_x1_0_ssld_pretrained/conv15_linear_bn_variance doesn't match.(Pretrained: (160,), Actual: (80,))\n",
      "2021-04-18 21:50:22 [WARNING]\t[SKIP] Shape of pretrained weight output/deeplabv3p_mobilenetv3_large_ssld/pretrain/MobileNetV3_large_x1_0_ssld_pretrained/conv16_expand_weights doesn't match.(Pretrained: (960, 160, 1, 1), Actual: (480, 80, 1, 1))\n",
      "2021-04-18 21:50:22 [WARNING]\t[SKIP] Shape of pretrained weight output/deeplabv3p_mobilenetv3_large_ssld/pretrain/MobileNetV3_large_x1_0_ssld_pretrained/conv16_expand_bn_scale doesn't match.(Pretrained: (960,), Actual: (480,))\n",
      "2021-04-18 21:50:22 [WARNING]\t[SKIP] Shape of pretrained weight output/deeplabv3p_mobilenetv3_large_ssld/pretrain/MobileNetV3_large_x1_0_ssld_pretrained/conv16_expand_bn_offset doesn't match.(Pretrained: (960,), Actual: (480,))\n",
      "2021-04-18 21:50:22 [WARNING]\t[SKIP] Shape of pretrained weight output/deeplabv3p_mobilenetv3_large_ssld/pretrain/MobileNetV3_large_x1_0_ssld_pretrained/conv16_expand_bn_mean doesn't match.(Pretrained: (960,), Actual: (480,))\n",
      "2021-04-18 21:50:22 [WARNING]\t[SKIP] Shape of pretrained weight output/deeplabv3p_mobilenetv3_large_ssld/pretrain/MobileNetV3_large_x1_0_ssld_pretrained/conv16_expand_bn_variance doesn't match.(Pretrained: (960,), Actual: (480,))\n",
      "2021-04-18 21:50:22 [WARNING]\t[SKIP] Shape of pretrained weight output/deeplabv3p_mobilenetv3_large_ssld/pretrain/MobileNetV3_large_x1_0_ssld_pretrained/conv16_depthwise_weights doesn't match.(Pretrained: (960, 1, 5, 5), Actual: (480, 1, 5, 5))\n",
      "2021-04-18 21:50:22 [WARNING]\t[SKIP] Shape of pretrained weight output/deeplabv3p_mobilenetv3_large_ssld/pretrain/MobileNetV3_large_x1_0_ssld_pretrained/conv16_depthwise_bn_scale doesn't match.(Pretrained: (960,), Actual: (480,))\n",
      "2021-04-18 21:50:22 [WARNING]\t[SKIP] Shape of pretrained weight output/deeplabv3p_mobilenetv3_large_ssld/pretrain/MobileNetV3_large_x1_0_ssld_pretrained/conv16_depthwise_bn_offset doesn't match.(Pretrained: (960,), Actual: (480,))\n",
      "2021-04-18 21:50:22 [WARNING]\t[SKIP] Shape of pretrained weight output/deeplabv3p_mobilenetv3_large_ssld/pretrain/MobileNetV3_large_x1_0_ssld_pretrained/conv16_depthwise_bn_mean doesn't match.(Pretrained: (960,), Actual: (480,))\n",
      "2021-04-18 21:50:22 [WARNING]\t[SKIP] Shape of pretrained weight output/deeplabv3p_mobilenetv3_large_ssld/pretrain/MobileNetV3_large_x1_0_ssld_pretrained/conv16_depthwise_bn_variance doesn't match.(Pretrained: (960,), Actual: (480,))\n",
      "2021-04-18 21:50:22 [WARNING]\t[SKIP] Shape of pretrained weight output/deeplabv3p_mobilenetv3_large_ssld/pretrain/MobileNetV3_large_x1_0_ssld_pretrained/conv16_se_1_weights doesn't match.(Pretrained: (240, 960, 1, 1), Actual: (120, 480, 1, 1))\n",
      "2021-04-18 21:50:22 [WARNING]\t[SKIP] Shape of pretrained weight output/deeplabv3p_mobilenetv3_large_ssld/pretrain/MobileNetV3_large_x1_0_ssld_pretrained/conv16_se_1_offset doesn't match.(Pretrained: (240,), Actual: (120,))\n",
      "2021-04-18 21:50:22 [WARNING]\t[SKIP] Shape of pretrained weight output/deeplabv3p_mobilenetv3_large_ssld/pretrain/MobileNetV3_large_x1_0_ssld_pretrained/conv16_se_2_weights doesn't match.(Pretrained: (960, 240, 1, 1), Actual: (480, 120, 1, 1))\n",
      "2021-04-18 21:50:22 [WARNING]\t[SKIP] Shape of pretrained weight output/deeplabv3p_mobilenetv3_large_ssld/pretrain/MobileNetV3_large_x1_0_ssld_pretrained/conv16_se_2_offset doesn't match.(Pretrained: (960,), Actual: (480,))\n",
      "2021-04-18 21:50:22 [WARNING]\t[SKIP] Shape of pretrained weight output/deeplabv3p_mobilenetv3_large_ssld/pretrain/MobileNetV3_large_x1_0_ssld_pretrained/conv16_linear_weights doesn't match.(Pretrained: (160, 960, 1, 1), Actual: (80, 480, 1, 1))\n",
      "2021-04-18 21:50:22 [WARNING]\t[SKIP] Shape of pretrained weight output/deeplabv3p_mobilenetv3_large_ssld/pretrain/MobileNetV3_large_x1_0_ssld_pretrained/conv16_linear_bn_scale doesn't match.(Pretrained: (160,), Actual: (80,))\n",
      "2021-04-18 21:50:22 [WARNING]\t[SKIP] Shape of pretrained weight output/deeplabv3p_mobilenetv3_large_ssld/pretrain/MobileNetV3_large_x1_0_ssld_pretrained/conv16_linear_bn_offset doesn't match.(Pretrained: (160,), Actual: (80,))\n",
      "2021-04-18 21:50:22 [WARNING]\t[SKIP] Shape of pretrained weight output/deeplabv3p_mobilenetv3_large_ssld/pretrain/MobileNetV3_large_x1_0_ssld_pretrained/conv16_linear_bn_mean doesn't match.(Pretrained: (160,), Actual: (80,))\n",
      "2021-04-18 21:50:22 [WARNING]\t[SKIP] Shape of pretrained weight output/deeplabv3p_mobilenetv3_large_ssld/pretrain/MobileNetV3_large_x1_0_ssld_pretrained/conv16_linear_bn_variance doesn't match.(Pretrained: (160,), Actual: (80,))\n",
      "2021-04-18 21:50:22 [WARNING]\t[SKIP] Shape of pretrained weight output/deeplabv3p_mobilenetv3_large_ssld/pretrain/MobileNetV3_large_x1_0_ssld_pretrained/conv_last_weights doesn't match.(Pretrained: (960, 160, 1, 1), Actual: (480, 80, 1, 1))\n",
      "2021-04-18 21:50:22 [WARNING]\t[SKIP] Shape of pretrained weight output/deeplabv3p_mobilenetv3_large_ssld/pretrain/MobileNetV3_large_x1_0_ssld_pretrained/conv_last_bn_scale doesn't match.(Pretrained: (960,), Actual: (480,))\n",
      "2021-04-18 21:50:22 [WARNING]\t[SKIP] Shape of pretrained weight output/deeplabv3p_mobilenetv3_large_ssld/pretrain/MobileNetV3_large_x1_0_ssld_pretrained/conv_last_bn_offset doesn't match.(Pretrained: (960,), Actual: (480,))\n",
      "2021-04-18 21:50:22 [WARNING]\t[SKIP] Shape of pretrained weight output/deeplabv3p_mobilenetv3_large_ssld/pretrain/MobileNetV3_large_x1_0_ssld_pretrained/conv_last_bn_mean doesn't match.(Pretrained: (960,), Actual: (480,))\n",
      "2021-04-18 21:50:22 [WARNING]\t[SKIP] Shape of pretrained weight output/deeplabv3p_mobilenetv3_large_ssld/pretrain/MobileNetV3_large_x1_0_ssld_pretrained/conv_last_bn_variance doesn't match.(Pretrained: (960,), Actual: (480,))\n",
      "2021-04-18 21:50:22 [INFO]\tThere are 205 varaibles in output/deeplabv3p_mobilenetv3_large_ssld/pretrain/MobileNetV3_large_x1_0_ssld_pretrained are loaded.\n"
     ]
    }
   ],
   "source": [
    "import paddlex as pdx\n",
    "from paddlex.seg import transforms\n",
    "# 定义训练和验证时的transforms\n",
    "\n",
    "train_transforms = transforms.Compose([\n",
    "    transforms.RandomHorizontalFlip(), transforms.ResizeRangeScaling(),\n",
    "    transforms.RandomPaddingCrop(crop_size=512), transforms.Normalize()\n",
    "])\n",
    "\n",
    "eval_transforms = transforms.Compose([\n",
    "    transforms.ResizeByLong(long_size=512),\n",
    "    transforms.Padding(target_size=512), transforms.Normalize()\n",
    "])\n",
    "\n",
    "# 定义训练和验证所用的数据集\n",
    "\n",
    "train_dataset = pdx.datasets.SegDataset(\n",
    "    data_dir='optic_disc_seg',\n",
    "    file_list='optic_disc_seg/train_list.txt',\n",
    "    label_list='optic_disc_seg/labels.txt',\n",
    "    transforms=train_transforms,\n",
    "    shuffle=True)\n",
    "\n",
    "eval_dataset = pdx.datasets.SegDataset(\n",
    "    data_dir='optic_disc_seg',\n",
    "    file_list='optic_disc_seg/val_list.txt',\n",
    "    label_list='optic_disc_seg/labels.txt',\n",
    "    transforms=eval_transforms)\n",
    "\n",
    "# 初始化模型，并进行训练\n",
    "\n",
    "num_classes = len(train_dataset.labels)\n",
    "\n",
    "model = pdx.seg.DeepLabv3p(\n",
    "    num_classes=num_classes,\n",
    "    backbone='MobileNetV3_large_x1_0_ssld',\n",
    "    pooling_crop_size=(512, 512))\n",
    "\n",
    "\n",
    "model.train(\n",
    "    num_epochs=10,\n",
    "    train_dataset=train_dataset,\n",
    "    train_batch_size=4,\n",
    "    eval_dataset=eval_dataset,\n",
    "    learning_rate=0.01,\n",
    "    save_dir='output/deeplabv3p_mobilenetv3_large_ssld',\n",
    "    use_vdl=True)"
   ]
  },
  {
   "cell_type": "markdown",
   "metadata": {
    "collapsed": false
   },
   "source": [
    "### 2.4 模型预测"
   ]
  },
  {
   "cell_type": "code",
   "execution_count": 9,
   "metadata": {
    "collapsed": false
   },
   "outputs": [
    {
     "name": "stderr",
     "output_type": "stream",
     "text": [
      "/opt/conda/envs/python35-paddle120-env/lib/python3.7/site-packages/paddle/fluid/layers/math_op_patch.py:298: UserWarning: /opt/conda/envs/python35-paddle120-env/lib/python3.7/site-packages/paddlex/cv/nets/mobilenet_v3.py:231\n",
      "The behavior of expression A * B has been unified with elementwise_mul(X, Y, axis=-1) from Paddle 2.0. If your code works well in the older versions but crashes in this version, try to use elementwise_mul(X, Y, axis=0) instead of A * B. This transitional warning will be dropped in the future.\n",
      "  op_type, op_type, EXPRESSION_MAP[method_name]))\n",
      "/opt/conda/envs/python35-paddle120-env/lib/python3.7/site-packages/paddle/fluid/layers/math_op_patch.py:298: UserWarning: /opt/conda/envs/python35-paddle120-env/lib/python3.7/site-packages/paddlex/cv/nets/segmentation/deeplabv3p.py:287\n",
      "The behavior of expression A * B has been unified with elementwise_mul(X, Y, axis=-1) from Paddle 2.0. If your code works well in the older versions but crashes in this version, try to use elementwise_mul(X, Y, axis=0) instead of A * B. This transitional warning will be dropped in the future.\n",
      "  op_type, op_type, EXPRESSION_MAP[method_name]))\n",
      "/opt/conda/envs/python35-paddle120-env/lib/python3.7/site-packages/paddle/fluid/layers/math_op_patch.py:298: UserWarning: /opt/conda/envs/python35-paddle120-env/lib/python3.7/site-packages/paddlex/cv/nets/segmentation/deeplabv3p.py:315\n",
      "The behavior of expression A + B has been unified with elementwise_add(X, Y, axis=-1) from Paddle 2.0. If your code works well in the older versions but crashes in this version, try to use elementwise_add(X, Y, axis=0) instead of A + B. This transitional warning will be dropped in the future.\n",
      "  op_type, op_type, EXPRESSION_MAP[method_name]))\n"
     ]
    },
    {
     "name": "stdout",
     "output_type": "stream",
     "text": [
      "2021-04-20 21:24:50 [INFO]\tModel[DeepLabv3p] loaded.\n",
      "2021-04-20 21:24:51 [INFO]\tThe visualized result is saved as ./visualize_P0099.jpg\n"
     ]
    }
   ],
   "source": [
    "#从测试数据中随机挑选一张图\n",
    "test_jpg = 'optic_disc_seg/JPEGImages/P0099.jpg'\n",
    "#下载训练好的模型\n",
    "model = pdx.load_model('output/deeplabv3p_mobilenetv3_large_ssld/epoch_10')\n",
    "result = model.predict(test_jpg)\n",
    "pdx.seg.visualize(test_jpg, result, weight=0.0, save_dir='./')"
   ]
  },
  {
   "cell_type": "markdown",
   "metadata": {
    "collapsed": false
   },
   "source": [
    "### 2.5 模型导出\n",
    "导出模型保存在`./inference_model路径下`"
   ]
  },
  {
   "cell_type": "code",
   "execution_count": 12,
   "metadata": {
    "collapsed": false
   },
   "outputs": [
    {
     "name": "stdout",
     "output_type": "stream",
     "text": [
      "/opt/conda/envs/python35-paddle120-env/lib/python3.7/site-packages/setuptools/depends.py:2: DeprecationWarning: the imp module is deprecated in favour of importlib; see the module's documentation for alternative uses\n",
      "  import imp\n",
      "/opt/conda/envs/python35-paddle120-env/lib/python3.7/site-packages/paddle/fluid/layers/math_op_patch.py:298: UserWarning: /opt/conda/envs/python35-paddle120-env/lib/python3.7/site-packages/paddlex/cv/nets/mobilenet_v3.py:231\n",
      "The behavior of expression A * B has been unified with elementwise_mul(X, Y, axis=-1) from Paddle 2.0. If your code works well in the older versions but crashes in this version, try to use elementwise_mul(X, Y, axis=0) instead of A * B. This transitional warning will be dropped in the future.\n",
      "  op_type, op_type, EXPRESSION_MAP[method_name]))\n",
      "/opt/conda/envs/python35-paddle120-env/lib/python3.7/site-packages/paddle/fluid/layers/math_op_patch.py:298: UserWarning: /opt/conda/envs/python35-paddle120-env/lib/python3.7/site-packages/paddlex/cv/nets/segmentation/deeplabv3p.py:287\n",
      "The behavior of expression A * B has been unified with elementwise_mul(X, Y, axis=-1) from Paddle 2.0. If your code works well in the older versions but crashes in this version, try to use elementwise_mul(X, Y, axis=0) instead of A * B. This transitional warning will be dropped in the future.\n",
      "  op_type, op_type, EXPRESSION_MAP[method_name]))\n",
      "/opt/conda/envs/python35-paddle120-env/lib/python3.7/site-packages/paddle/fluid/layers/math_op_patch.py:298: UserWarning: /opt/conda/envs/python35-paddle120-env/lib/python3.7/site-packages/paddlex/cv/nets/segmentation/deeplabv3p.py:315\n",
      "The behavior of expression A + B has been unified with elementwise_add(X, Y, axis=-1) from Paddle 2.0. If your code works well in the older versions but crashes in this version, try to use elementwise_add(X, Y, axis=0) instead of A + B. This transitional warning will be dropped in the future.\n",
      "  op_type, op_type, EXPRESSION_MAP[method_name]))\n",
      "2021-04-20 21:30:39 [INFO]\tModel[DeepLabv3p] loaded.\n",
      "2021-04-20 21:30:39 [INFO]\tModel for inference deploy saved in ./inference_model.\n"
     ]
    }
   ],
   "source": [
    "!paddlex --export_inference --model_dir='output/deeplabv3p_mobilenetv3_large_ssld/epoch_10' --save_dir='./inference_model'"
   ]
  }
 ],
 "metadata": {
  "kernelspec": {
   "display_name": "PaddlePaddle 2.0.0b0 (Python 3.5)",
   "language": "python",
   "name": "py35-paddle1.2.0"
  },
  "language_info": {
   "codemirror_mode": {
    "name": "ipython",
    "version": 3
   },
   "file_extension": ".py",
   "mimetype": "text/x-python",
   "name": "python",
   "nbconvert_exporter": "python",
   "pygments_lexer": "ipython3",
   "version": "3.7.4"
  }
 },
 "nbformat": 4,
 "nbformat_minor": 1
}
